{
 "cells": [
  {
   "cell_type": "code",
   "execution_count": 1,
   "id": "0149d3a8",
   "metadata": {},
   "outputs": [],
   "source": [
    "import xml.etree.ElementTree as ET\n",
    "from xml.dom import minidom\n",
    "import os"
   ]
  },
  {
   "cell_type": "code",
   "execution_count": 2,
   "id": "879ea6d9",
   "metadata": {},
   "outputs": [],
   "source": [
    "def extract_info_from_xml(xml_file):\n",
    "    root = ET.parse(xml_file).getroot()\n",
    "    \n",
    "    # Initialise the info dict \n",
    "    info_dict = {}\n",
    "    info_dict['bboxes'] = []\n",
    "\n",
    "    # Parse the XML Tree\n",
    "    for elem in root:\n",
    "        # Get the file name \n",
    "        if elem.tag == \"filename\":\n",
    "            info_dict['filename'] = elem.text\n",
    "            \n",
    "        # Get the image size\n",
    "        elif elem.tag == \"size\":\n",
    "            image_size = []\n",
    "            for subelem in elem:\n",
    "                image_size.append(int(subelem.text))\n",
    "            \n",
    "            info_dict['image_size'] = tuple(image_size)\n",
    "        \n",
    "        # Get details of the bounding box \n",
    "        elif elem.tag == \"object\":\n",
    "            bbox = {}\n",
    "            for subelem in elem:\n",
    "                if subelem.tag == \"name\":\n",
    "                    bbox[\"class\"] = subelem.text\n",
    "                    \n",
    "                elif subelem.tag == \"bndbox\":\n",
    "                    for subsubelem in subelem:\n",
    "                        bbox[subsubelem.tag] = int(subsubelem.text)            \n",
    "            info_dict['bboxes'].append(bbox)\n",
    "    \n",
    "    return info_dict"
   ]
  },
  {
   "cell_type": "code",
   "execution_count": 3,
   "id": "9b886ccb",
   "metadata": {},
   "outputs": [],
   "source": [
    "class_name_to_id_mapping = {\"no_mask\": 0,\n",
    "                           \"yes_mask\": 1}\n",
    "\n",
    "# Convert the info dict to the required yolo format and write it to disk\n",
    "def convert_to_text(info_dict, annotation_path, save_file_name):\n",
    "    print_buffer = [annotation_path.replace(\"Annotations\", \"Images\") + info_dict[\"filename\"]]\n",
    "    \n",
    "    # For each bounding box\n",
    "    for b in info_dict[\"bboxes\"]:      \n",
    "        xmin = b[\"xmin\"]\n",
    "        ymin = b[\"ymin\"]\n",
    "        xmax = b[\"xmax\"]\n",
    "        ymax = b[\"ymax\"]\n",
    "        if b[\"class\"] == \"no_mask\":\n",
    "            class_id = 0\n",
    "        else:\n",
    "            class_id = 1\n",
    "        \n",
    "        #Write the bbox details to the file \n",
    "        print_buffer.append(\" {},{},{},{},{}\".format(xmin, ymin, xmax, ymax, class_id))\n",
    "    \n",
    "    # Save the annotation to disk\n",
    "    with open(save_file_name, \"a\") as f:\n",
    "        for lines in print_buffer:\n",
    "            f.write(lines)\n",
    "        f.write(\"\\n\")"
   ]
  },
  {
   "cell_type": "code",
   "execution_count": 4,
   "id": "0b4d3ae5",
   "metadata": {},
   "outputs": [
    {
     "name": "stderr",
     "output_type": "stream",
     "text": [
      "100%|██████████| 232/232 [00:00<00:00, 1819.10it/s]\n",
      "100%|██████████| 29/29 [00:00<00:00, 1686.56it/s]\n",
      "100%|██████████| 29/29 [00:00<00:00, 2216.78it/s]\n"
     ]
    }
   ],
   "source": [
    "from tqdm import tqdm\n",
    "annotation_path = [\"./train/Annotations/\", \"./eval/Annotations/\", \"./test/Annotations/\"]\n",
    "\n",
    "for path in annotation_path:\n",
    "    annotations = [os.path.join(path, x) for x in os.listdir(path) if x[-3:] == \"xml\"]\n",
    "    \n",
    "    save_file_name = path.split(\"/\")\n",
    "    save_file_name = f\"{save_file_name[1]}_text.txt\"\n",
    "    with open(save_file_name, \"w\") as f:\n",
    "        pass\n",
    "\n",
    "    for ann in tqdm(annotations):\n",
    "        info_dict = extract_info_from_xml(ann)\n",
    "        convert_to_text(info_dict, path, save_file_name)\n",
    "        "
   ]
  },
  {
   "cell_type": "code",
   "execution_count": null,
   "id": "b3938983",
   "metadata": {},
   "outputs": [],
   "source": []
  }
 ],
 "metadata": {
  "kernelspec": {
   "display_name": "python-3.7.10",
   "language": "python",
   "name": "python-3.7.10"
  },
  "language_info": {
   "codemirror_mode": {
    "name": "ipython",
    "version": 3
   },
   "file_extension": ".py",
   "mimetype": "text/x-python",
   "name": "python",
   "nbconvert_exporter": "python",
   "pygments_lexer": "ipython3",
   "version": "3.7.10"
  }
 },
 "nbformat": 4,
 "nbformat_minor": 5
}
